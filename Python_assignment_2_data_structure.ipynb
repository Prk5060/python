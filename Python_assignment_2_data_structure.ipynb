{
  "nbformat": 4,
  "nbformat_minor": 0,
  "metadata": {
    "colab": {
      "provenance": [],
      "authorship_tag": "ABX9TyO+uiigHw2BMcicrwFQMvcj",
      "include_colab_link": true
    },
    "kernelspec": {
      "name": "python3",
      "display_name": "Python 3"
    },
    "language_info": {
      "name": "python"
    }
  },
  "cells": [
    {
      "cell_type": "markdown",
      "metadata": {
        "id": "view-in-github",
        "colab_type": "text"
      },
      "source": [
        "<a href=\"https://colab.research.google.com/github/Prk5060/python/blob/main/Python_assignment_2_data_structure.ipynb\" target=\"_parent\"><img src=\"https://colab.research.google.com/assets/colab-badge.svg\" alt=\"Open In Colab\"/></a>"
      ]
    },
    {
      "cell_type": "markdown",
      "source": [
        "#Question 1. Discuss string and provide examples.\n",
        "Ans .It follows the format string[start:end], where start is the index where slicing begins\n",
        "(inclusive) and end is the index where it ends (exclusive). For example, with the\n",
        "string my_string = \"Hello, World!\", if you use my_string[7:12], it will return \"World\". If\n",
        "you omit start, it starts from the beginning of the string.\n",
        "\n"
      ],
      "metadata": {
        "id": "ZEnft3g2XT9v"
      }
    },
    {
      "cell_type": "markdown",
      "source": [
        "#Question 2.Explain the key features of lists in python.\n",
        "Ans. Lists are mutable and dynamic; list items can be added, removed or changed after\n",
        "the list is defined. Lists are ordered; newly added items will be placed at the end of\n",
        "the list. Lists use zero-based indexing; every list item has an associated index, and\n",
        "The first item's index is 0."
      ],
      "metadata": {
        "id": "NFoV5PyKXSeY"
      }
    },
    {
      "cell_type": "markdown",
      "source": [
        "#Question 3.Describe how to access,modify and delete elements in a list with examples.\n",
        "Ans. Python list elements are ordered by index, a number referring to their placement in\n",
        "the list. List indices start at 0 and increment by one. To access a list element by index,\n",
        "square bracket notation is used: list[index] .\n",
        "Modify an Item Within a List in Python\n",
        "1. Step 1: Create a List. To start, create a list in Python. For example: list_names =\n",
        "[\"Jony\", \"Billa\", \"Marry\", \"Jenny\", \"Jack\"] ...\n",
        "2. Step 2: Modify an Item within the list. For example, to modify the third item (index\n",
        "of 2) in the list from “Marry” to “Munna“: list_names[2] = \"Munna\"\n",
        "You can either use the del keyword or the pop() function to remove an element from a list in Python by its index.\n",
        ""
      ],
      "metadata": {
        "id": "9ujqBlRSX86v"
      }
    },
    {
      "cell_type": "markdown",
      "source": [
        "#Question 4.Compare and contrast tuples and lists with examples.\n",
        "Ans.Use a list if you need a mutable collection of items where you may need to add,\n",
        "remove, or change elements. Lists are more flexible and have more built-in methods,\n",
        "making them ideal for dynamic collections. Use a tuple if you need an immutable\n",
        "collection where the elements won't change after creation.\n",
        "\n",
        ""
      ],
      "metadata": {
        "id": "YiWxH89mZB6Q"
      }
    },
    {
      "cell_type": "markdown",
      "source": [],
      "metadata": {
        "id": "8jQn_ESQZEme"
      }
    },
    {
      "cell_type": "markdown",
      "source": [
        "#Question 5.Describe the key features of sets and provide examples of their uses.\n",
        "Ans.A set is represented by a capital letter symbol and the number of elements in the\n",
        "finite set is represented as the cardinal number of a set in a curly bracket {…}. For\n",
        "example, set A is a collection of all the natural numbers, such as A =\n",
        "{1,2,3,4,5,6,7,8,…..∞}. Also, check sets here.\n"
      ],
      "metadata": {
        "id": "V9NxlJH3ZTVB"
      }
    },
    {
      "cell_type": "markdown",
      "source": [
        "#Question 6.Discuss the use cases of tuples and sets in python programming.\n",
        "Ans.ns.Tuples are used to store multiple items in a single variable. Tuple is one of 4 built-in\n",
        "data types in Python used to store collections of data, the other 3 are List, Set, and\n",
        "Dictionary, all with different qualities and usage. A tuple is a collection which is ordered\n",
        "and unchangeable.\n",
        "common us\n",
        " standard math operations such as union,\n",
        "intersection, difference, and symmetric difference. The image below shows a couple\n",
        "standard math operations on two sets A and B. The red part of each Venn diagram is\n",
        "the resulting set of a given set operation.\n"
      ],
      "metadata": {
        "id": "0Yl5tKx2Zz7Z"
      }
    },
    {
      "cell_type": "markdown",
      "source": [
        "Q8.Discuss the importance of dictionary keys being immutable and provide\n",
        "examples.\n",
        "Ans.In a dictionary, the key part must be immutable. This means that once a key is\n",
        "created, it cannot be changed. Immutability is essential for keys because it ensures that\n",
        "the dictionary can efficiently look up values based on their keys.If the key were a\n",
        "mutable object, its value could change, and thus its hash could also change. But since\n",
        "whoever changes the key object can't tell that it was being used as a dictionary key, it\n",
        "can't move the entry around in the dictionary."
      ],
      "metadata": {
        "id": "8F4NtP2xadpz"
      }
    },
    {
      "cell_type": "code",
      "source": [],
      "metadata": {
        "id": "0dLqzsSCanru"
      },
      "execution_count": null,
      "outputs": []
    }
  ]
}